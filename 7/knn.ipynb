{
  "cells": [
    {
      "cell_type": "code",
      "execution_count": 16,
      "metadata": {
        "colab": {
          "base_uri": "https://localhost:8080/"
        },
        "id": "zDWolFetl2pF",
        "outputId": "b65103dc-a521-4c36-bb85-96cf2b896cd2"
      },
      "outputs": [
        {
          "name": "stdout",
          "output_type": "stream",
          "text": [
            "Predictions: [2, 3, 4, 3, 3, 4, 1, 3, 3, 3, 4, 1]\n",
            "Accuracy: 0.6666666666666666\n"
          ]
        }
      ],
      "source": [
        "import numpy as np\n",
        "import pandas as pd\n",
        "from collections import Counter\n",
        "from sklearn.model_selection import train_test_split\n",
        "\n",
        "def manhattan_distance(x1, x2):\n",
        "  distance = np.sum(np.abs(x1 - x2))\n",
        "  return distance\n",
        "\n",
        "class KNN:\n",
        "  def __init__(self, k):\n",
        "    self.k = k\n",
        "\n",
        "  def fit(self, X, y):\n",
        "    self.X_train = X\n",
        "    self.y_train = y\n",
        "\n",
        "  def predict(self, X):\n",
        "    predictions = [self._predict(x) for x in X]\n",
        "    return predictions\n",
        "\n",
        "  def _predict(self, x):\n",
        "    distances = [manhattan_distance(x, x_train) for x_train in self.X_train]\n",
        "    k_indices = np.argsort(distances)[:self.k]\n",
        "    k_nearest_labels = [self.y_train[i] for i in k_indices]\n",
        "    most_common = Counter(k_nearest_labels).most_common()\n",
        "    return most_common[0][0]\n",
        "\n",
        "df = pd.read_csv('fruits.csv')\n",
        "y = df['fruit_label'].values\n",
        "X = df[['mass','width','height','color_score']].values\n",
        "\n",
        "X_train, X_test, y_train, y_test = train_test_split(X, y, test_size=0.2, random_state=45)\n",
        "\n",
        "clf = KNN(k=5)\n",
        "clf.fit(X_train, y_train)\n",
        "predictions = clf.predict(X_test)\n",
        "\n",
        "print(\"Predictions:\",predictions)\n",
        "accuracy = np.sum(predictions == y_test) / len(y_test)\n",
        "print(\"Accuracy:\", accuracy)"
      ]
    }
  ],
  "metadata": {
    "colab": {
      "provenance": []
    },
    "kernelspec": {
      "display_name": "Python 3",
      "name": "python3"
    },
    "language_info": {
      "name": "python"
    }
  },
  "nbformat": 4,
  "nbformat_minor": 0
}
